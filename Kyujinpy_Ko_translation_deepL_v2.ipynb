{
 "cells": [
  {
   "cell_type": "code",
   "execution_count": 1,
   "id": "b61fcd15",
   "metadata": {},
   "outputs": [],
   "source": [
    "import time\n",
    "import sys\n",
    "from selenium import webdriver\n",
    "from selenium.webdriver.chrome.options import Options\n",
    "from selenium.webdriver.chrome.service import Service\n",
    "from selenium.webdriver.common.by import By\n",
    "from tqdm import tqdm\n",
    "\n",
    "# Start a Selenium driver\n",
    "service = Service('./chromedriver.exe')\n",
    "options = webdriver.ChromeOptions()\n",
    "options.add_argument('--headless')\n",
    "driver = webdriver.Chrome(service=service, options=options)\n",
    "\n",
    "# Reach the deepL website\n",
    "deepl_url = 'https://www.deepl.com/ko/translator' # 한국어\n",
    "driver.get(deepl_url)"
   ]
  },
  {
   "cell_type": "code",
   "execution_count": 4,
   "id": "a38617c4",
   "metadata": {
    "scrolled": false
   },
   "outputs": [
    {
     "name": "stderr",
     "output_type": "stream",
     "text": [
      " 25%|█████████████████████                                                               | 1/4 [00:03<00:09,  3.23s/it]"
     ]
    },
    {
     "name": "stdout",
     "output_type": "stream",
     "text": [
      "##################################################\n",
      "Original    : Shuffle data after an epoch!\n",
      "Translation : 에포크 후 데이터 셔플!\n",
      "##################################################\n"
     ]
    },
    {
     "name": "stderr",
     "output_type": "stream",
     "text": [
      "\r",
      " 50%|██████████████████████████████████████████                                          | 2/4 [00:06<00:06,  3.34s/it]"
     ]
    },
    {
     "name": "stdout",
     "output_type": "stream",
     "text": [
      "##################################################\n",
      "Original    : StaleElementReferenceException: Message: stale element reference: stale element not found\n",
      "Translation : StaleElementReferenceException: 메시지: 부실 요소 참조: 부실 요소를 찾을 수 없습니다.\n",
      "##################################################\n"
     ]
    },
    {
     "name": "stderr",
     "output_type": "stream",
     "text": [
      "\r",
      " 75%|███████████████████████████████████████████████████████████████                     | 3/4 [00:09<00:03,  3.26s/it]"
     ]
    },
    {
     "name": "stdout",
     "output_type": "stream",
     "text": [
      "##################################################\n",
      "Original    : Hello python!\n",
      "Translation : 안녕하세요 파이썬!\n",
      "##################################################\n"
     ]
    },
    {
     "name": "stderr",
     "output_type": "stream",
     "text": [
      "100%|████████████████████████████████████████████████████████████████████████████████████| 4/4 [00:13<00:00,  3.29s/it]"
     ]
    },
    {
     "name": "stdout",
     "output_type": "stream",
     "text": [
      "##################################################\n",
      "Original    : Using Selenium and deepL to automate the translation!\n",
      "Translation : 셀레늄과 딥엘을 사용하여 번역을 자동화하세요!\n",
      "##################################################\n"
     ]
    },
    {
     "name": "stderr",
     "output_type": "stream",
     "text": [
      "\n"
     ]
    }
   ],
   "source": [
    "# Define text to translate\n",
    "for i in tqdm(range(4)):\n",
    "    content = ''\n",
    "    if i == 0:\n",
    "        text_to_translate = 'Shuffle data after an epoch!'\n",
    "    elif i == 1:\n",
    "        text_to_translate = 'StaleElementReferenceException: Message: stale element reference: stale element not found'\n",
    "    elif i == 2:\n",
    "        text_to_translate = 'Hello python!'\n",
    "    elif i == 3:\n",
    "        text_to_translate = 'Using Selenium and deepL to automate the translation!'\n",
    "    \n",
    "    # Get thie inupt_area \n",
    "    #input_xpath = '//*[@id=\"panelTranslateText\"]/div[1]/div[2]/section[1]/div[3]/div[2]/d-textarea/div/p'\n",
    "    input_css = 'div.lmt__inner_textarea_container d-textarea'\n",
    "    input_area = driver.find_element(By.CSS_SELECTOR, input_css)\n",
    "\n",
    "    # Send the text\n",
    "    input_area.send_keys(text_to_translate)\n",
    "\n",
    "    # Wait for translation to appear on the web page    \n",
    "    time.sleep(3)\n",
    "    \n",
    "    bug_count = 0\n",
    "    while (len(content) == 0) and (bug_count < 20):\n",
    "        try:\n",
    "            translation_xpath = '//*[@id=\"panelTranslateText\"]/div[1]/div[2]/section[2]/div[3]/div[1]/d-textarea/div/p'\n",
    "            translation_text = driver.find_element(By.XPATH, translation_xpath)\n",
    "            content = translation_text.text\n",
    "        except Exception as e:\n",
    "            bug_count += 1\n",
    "            \n",
    "            if bug_count == 20:\n",
    "                print(e)\n",
    "                sys.exit()\n",
    "    \n",
    "    # Display results\n",
    "    print('#'*50)\n",
    "    print('Original    :', text_to_translate)\n",
    "    print('Translation :', content)\n",
    "    print('#'*50)\n",
    "    \n",
    "    # clear(X) button\n",
    "    button_css = 'div.lmt__clear_text_button_wrapper button'\n",
    "    button = driver.find_element(By.CSS_SELECTOR, button_css)\n",
    "    button.click()"
   ]
  },
  {
   "cell_type": "code",
   "execution_count": 5,
   "id": "0db09217",
   "metadata": {},
   "outputs": [],
   "source": [
    "# Quit selenium driver\n",
    "driver.quit()"
   ]
  }
 ],
 "metadata": {
  "kernelspec": {
   "display_name": "Python 3 (ipykernel)",
   "language": "python",
   "name": "python3"
  },
  "language_info": {
   "codemirror_mode": {
    "name": "ipython",
    "version": 3
   },
   "file_extension": ".py",
   "mimetype": "text/x-python",
   "name": "python",
   "nbconvert_exporter": "python",
   "pygments_lexer": "ipython3",
   "version": "3.9.12"
  }
 },
 "nbformat": 4,
 "nbformat_minor": 5
}
